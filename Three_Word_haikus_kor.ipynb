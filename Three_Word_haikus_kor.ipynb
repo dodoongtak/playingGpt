{
 "cells": [
  {
   "cell_type": "code",
   "execution_count": null,
   "metadata": {
    "vscode": {
     "languageId": "plaintext"
    }
   },
   "outputs": [],
   "source": [
    "from langchain_openai import ChatOpenAI\n",
    "from langchain.prompts import ChatPromptTemplate\n",
    "from langchain.chains import RunnablePassthrough\n",
    "from dotenv import load_dotenv\n",
    "import os\n",
    "\n",
    "load_dotenv()\n",
    "\n",
    "# 모델 설정\n",
    "llm = ChatOpenAI(model=\"gpt-3.5-turbo\")\n",
    "\n",
    "# 체인 1: 삼행시 생성기\n",
    "Three_Word_haikus_kor_prompt = ChatPromptTemplate.from_template(\n",
    "    \"단어 '{word}'에 대해 삼행시를 만들어줘. 각 행은 그 단어의 한 글자씩으로 시작해.\"\n",
    ")\n",
    "Three_Word_haikus_kor_generator = Three_Word_haikus_kor_prompt | llm\n",
    "\n",
    "# 체인 2: 삼행시 해석기\n",
    "Three_Word_haikus_kor_explainer_prompt = ChatPromptTemplate.from_template(\n",
    "    \"다음 삼행시의 의미를 분석해줘:\\n\\n{poem}\"\n",
    ")\n",
    "Three_Word_haikus_kor_explainer = Three_Word_haikus_kor_explainer_prompt | llm\n",
    "\n",
    "# 전체 체인 연결\n",
    "def Three_Word_haikus_kor_chain(word: str):\n",
    "    poem = Three_Word_haikus_kor_generator.invoke({\"word\": word}).content\n",
    "    explanation = Three_Word_haikus_kor_explainer.invoke({\"poem\": poem}).content\n",
    "    return {\n",
    "        \"삼행시\": poem,\n",
    "        \"해석\": explanation\n",
    "    }\n"
   ]
  },
  {
   "cell_type": "code",
   "execution_count": null,
   "metadata": {
    "vscode": {
     "languageId": "plaintext"
    }
   },
   "outputs": [],
   "source": [
    "# 테스트 실행\n",
    "if __name__ == \"__main__\":\n",
    "    result = Three_Word_haikus_kor_chain(\"사랑\")\n",
    "    print(\"📜 삼행시:\\n\", result[\"삼행시\"])\n",
    "    print(\"\\n🔍 해석:\\n\", result[\"해석\"])"
   ]
  }
 ],
 "metadata": {
  "language_info": {
   "name": "python"
  }
 },
 "nbformat": 4,
 "nbformat_minor": 2
}
