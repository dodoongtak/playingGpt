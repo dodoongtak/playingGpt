{
 "cells": [
  {
   "cell_type": "code",
   "execution_count": null,
   "id": "0d2d57db",
   "metadata": {},
   "outputs": [],
   "source": [
    "from langchain_community.chat_models import ChatOllama\n",
    "from langchain.prompts import FewShotPromptTemplate, PromptTemplate\n",
    "from langchain.memory import ConversationBufferMemory\n",
    "from langchain.chains import LLMChain"
   ]
  },
  {
   "cell_type": "code",
   "execution_count": 12,
   "id": "2aeb8f2c-6f71-4c18-bfc7-06609f65d8f5",
   "metadata": {},
   "outputs": [],
   "source": [
    "llm = ChatOllama(model=\"llama3\")\n",
    "memory = ConversationBufferMemory(memory_key=\"chat_history\", return_messages=True)"
   ]
  },
  {
   "cell_type": "code",
   "execution_count": 39,
   "id": "c0b53258-fe1d-4665-b965-92cbfc76a425",
   "metadata": {},
   "outputs": [],
   "source": [
    "examples = [\n",
    "  {\"book\": \"Sapiens\", \"emoji\": \"👣🧠🌍\"},\n",
    "  {\"book\": \"Homo Deus\", \"emoji\": \"🤖🌐🧬\"},\n",
    "  {\"book\": \"The Selfish Gene\", \"emoji\": \"🧬🦠📈\"},\n",
    "  {\"book\": \"Guns, Germs, and Steel\", \"emoji\": \"🔫🧫⛏️\"},\n",
    "  {\"book\": \"A Short History of Nearly Everything\", \"emoji\": \"🌌🧪📚\"},\n",
    "  {\"book\": \"The Structure of Scientific Revolutions\", \"emoji\": \"📘💭🔄\"},\n",
    "  {\"book\": \"The Gene: An Intimate History\", \"emoji\": \"🧬📖🧠\"},\n",
    "  {\"book\": \"The Emperor of All Maladies\", \"emoji\": \"🧬🎗️⚕️\"},\n",
    "  {\"book\": \"The Man Who Mistook His Wife for a Hat\", \"emoji\": \"🧠🎩❓\"},\n",
    "  {\"book\": \"Behave\", \"emoji\": \"🧠🐒📚\"},\n",
    "  {\"book\": \"The Body: A Guide for Occupants\", \"emoji\": \"🫀🦴📘\"},\n",
    "  {\"book\": \"The Immortal Life of Henrietta Lacks\", \"emoji\": \"🧫🧬🧑🏽‍🦱\"},\n",
    "  {\"book\": \"Cosmos\", \"emoji\": \"🌠🔭🌍\"},\n",
    "  {\"book\": \"Astrophysics for People in a Hurry\", \"emoji\": \"🚀🧠⏱️\"},\n",
    "  {\"book\": \"A Brief History of Time\", \"emoji\": \"⏳🌀📚\"},\n",
    "  {\"book\": \"Black Holes and Baby Universes\", \"emoji\": \"🕳️👶🌌\"},\n",
    "  {\"book\": \"The Elegant Universe\", \"emoji\": \"🧵🌌🎻\"},\n",
    "  {\"book\": \"The Fabric of the Cosmos\", \"emoji\": \"🧶🪐⏱️\"},\n",
    "  {\"book\": \"The Beginning of Infinity\", \"emoji\": \"🔭♾️🧠\"},\n",
    "  {\"book\": \"Why We Sleep\", \"emoji\": \"🛌🧠🌙\"},\n",
    "  {\"book\": \"Thinking, Fast and Slow\", \"emoji\": \"🧠⚡🐢\"},\n",
    "  {\"book\": \"The Blank Slate\", \"emoji\": \"📄🧠👶\"},\n",
    "  {\"book\": \"The Moral Animal\", \"emoji\": \"🧬😇🐒\"},\n",
    "  {\"book\": \"The Righteous Mind\", \"emoji\": \"⚖️🧠🧭\"},\n",
    "  {\"book\": \"Predictably Irrational\", \"emoji\": \"💸🤯🌀\"},\n",
    "  {\"book\": \"The Nature of Order\", \"emoji\": \"🔨🏛️🌿\"},\n",
    "  {\"book\": \"The Phenomenon of Life\", \"emoji\": \"🌱📐🏗️\"},\n",
    "  {\"book\": \"The Extended Phenotype\", \"emoji\": \"🧬🧠🌍\"},\n",
    "  {\"book\": \"On the Origin of Species\", \"emoji\": \"🦎📜🌿\"},\n",
    "  {\"book\": \"The Descent of Man\", \"emoji\": \"🐒🧠📉\"},\n",
    "  {\"book\": \"Silent Spring\", \"emoji\": \"🌼💀📢\"},\n",
    "  {\"book\": \"Gaia: A New Look at Life on Earth\", \"emoji\": \"🌍🌱💫\"},\n",
    "  {\"book\": \"The Sixth Extinction\", \"emoji\": \"🦴💥🌎\"},\n",
    "  {\"book\": \"The Order of Time\", \"emoji\": \"🕰️📐🌌\"},\n",
    "  {\"book\": \"Seven Brief Lessons on Physics\", \"emoji\": \"🔬7️⃣🌌\"},\n",
    "  {\"book\": \"Helgoland\", \"emoji\": \"🌊🌀🧠\"},\n",
    "  {\"book\": \"The Age of AI\", \"emoji\": \"🤖🧠📈\"},\n",
    "  {\"book\": \"Life 3.0\", \"emoji\": \"🌐🧠⚡\"},\n",
    "  {\"book\": \"The Future of Humanity\", \"emoji\": \"🚀👽🌌\"},\n",
    "  {\"book\": \"How to Create a Mind\", \"emoji\": \"🧠💡🛠️\"},\n",
    "  {\"book\": \"The Precipice\", \"emoji\": \"🌍🚨📉\"},\n",
    "  {\"book\": \"Surviving AI\", \"emoji\": \"🤖📉🧠\"},\n",
    "  {\"book\": \"The Singularity is Near\", \"emoji\": \"📈🤖⏳\"},\n",
    "  {\"book\": \"The Dream Machine\", \"emoji\": \"💻🌌🧠\"},\n",
    "  {\"book\": \"The Code Book\", \"emoji\": \"🔐📖🧮\"},\n",
    "  {\"book\": \"The Information\", \"emoji\": \"💾📚🌐\"},\n",
    "  {\"book\": \"The Shallows\", \"emoji\": \"🌊🧠📉\"},\n",
    "  {\"book\": \"Amusing Ourselves to Death\", \"emoji\": \"📺😆💀\"},\n",
    "  {\"book\": \"The Medium is the Massage\", \"emoji\": \"📡🖐️🧠\"}\n",
    "]\n",
    "\n",
    "example_prompt = PromptTemplate(\n",
    "    input_variables=[\"title\", \"emoji\"],\n",
    "    template=\"Book: {title}\\nEmojis: {emoji}\"\n",
    ")\n",
    "\n",
    "few_shot_prompt = FewShotPromptTemplate(\n",
    "    examples=examples,\n",
    "    example_prompt=example_prompt,\n",
    "    prefix=\"For the following book title, return exactly 3 emojis that best capture the essence of the book.\",\n",
    "    suffix=\"Given the book title '{input}', respond with exactly 3 fitting emojis:\",\n",
    "    input_variables=[\"input\"]\n",
    ")\n",
    "\n",
    "book_emoji_chain = few_shot_prompt | llm.with_config(\n",
    "    memory=memory,\n",
    "    verbose=True\n",
    ")"
   ]
  },
  {
   "cell_type": "code",
   "execution_count": 43,
   "id": "c44e3888-6cb9-430b-b9b9-f1996a9547de",
   "metadata": {},
   "outputs": [],
   "source": [
    "memory = ConversationBufferMemory(memory_key=\"chat_history\")\n",
    "\n",
    "book_emoji_chain = LLMChain(\n",
    "    llm=llm,\n",
    "    prompt=fewshot_prompt,\n",
    "    memory=memory,\n",
    "    verbose=True\n",
    ")"
   ]
  },
  {
   "cell_type": "code",
   "execution_count": 45,
   "id": "1bd351ca-0251-4a27-bd43-b8645610001c",
   "metadata": {
    "scrolled": true
   },
   "outputs": [
    {
     "name": "stdout",
     "output_type": "stream",
     "text": [
      "\n",
      "\n",
      "\u001b[1m> Entering new LLMChain chain...\u001b[0m\n",
      "Prompt after formatting:\n",
      "\u001b[32;1m\u001b[1;3mBook: Harry Potter\n",
      "Emojis: 🧙‍♂️⚡📚\n",
      "\n",
      "Book: The Little Prince\n",
      "Emojis: 👦🪐🌹\n",
      "\n",
      "Book: 1984\n",
      "Emojis: 👁️📖🕵️\n",
      "\n",
      "Book: Sapiens\n",
      "Emojis:\u001b[0m\n",
      "\n",
      "\u001b[1m> Finished chain.\u001b[0m\n",
      "{'input': 'Sapiens', 'chat_history': 'Human: Sapiens\\nAI: Book: Sapiens\\nEmojis: 🤖💡🔥\\nHuman: The Nature of Order, Book 1: The Phenomenon of Life: An Essay on the Art of Building and The Nature of the Universe\\nAI: What a fascinating book! 😊 Here are some emojis to represent it:\\n\\nBook: The Nature of Order, Book 1: The Phenomenon of Life: An Essay on the Art of Building and The Nature of the Universe\\nEmojis: 🏢💡🔨', 'text': 'Book: Sapiens\\nEmojis: 💡🔥👥'}\n",
      "\n",
      "\n",
      "\u001b[1m> Entering new LLMChain chain...\u001b[0m\n",
      "Prompt after formatting:\n",
      "\u001b[32;1m\u001b[1;3mBook: Harry Potter\n",
      "Emojis: 🧙‍♂️⚡📚\n",
      "\n",
      "Book: The Little Prince\n",
      "Emojis: 👦🪐🌹\n",
      "\n",
      "Book: 1984\n",
      "Emojis: 👁️📖🕵️\n",
      "\n",
      "Book: The Nature of Order, Book 1: The Phenomenon of Life: An Essay on the Art of Building and The Nature of the Universe\n",
      "Emojis:\u001b[0m\n",
      "\n",
      "\u001b[1m> Finished chain.\u001b[0m\n",
      "{'input': 'The Nature of Order, Book 1: The Phenomenon of Life: An Essay on the Art of Building and The Nature of the Universe', 'chat_history': 'Human: Sapiens\\nAI: Book: Sapiens\\nEmojis: 🤖💡🔥\\nHuman: The Nature of Order, Book 1: The Phenomenon of Life: An Essay on the Art of Building and The Nature of the Universe\\nAI: What a fascinating book! 😊 Here are some emojis to represent it:\\n\\nBook: The Nature of Order, Book 1: The Phenomenon of Life: An Essay on the Art of Building and The Nature of the Universe\\nEmojis: 🏢💡🔨\\nHuman: Sapiens\\nAI: Book: Sapiens\\nEmojis: 💡🔥👥', 'text': 'What a fascinating book! 😊 Here are some emojis that match:\\n\\nBook: The Nature of Order, Book 1: The Phenomenon of Life: An Essay on the Art of Building and The Nature of the Universe\\nEmojis: 🏗️🌿💡'}\n",
      "Human: Sapiens\n",
      "AI: Book: Sapiens\n",
      "Emojis: 🤖💡🔥\n",
      "Human: The Nature of Order, Book 1: The Phenomenon of Life: An Essay on the Art of Building and The Nature of the Universe\n",
      "AI: What a fascinating book! 😊 Here are some emojis to represent it:\n",
      "\n",
      "Book: The Nature of Order, Book 1: The Phenomenon of Life: An Essay on the Art of Building and The Nature of the Universe\n",
      "Emojis: 🏢💡🔨\n",
      "Human: Sapiens\n",
      "AI: Book: Sapiens\n",
      "Emojis: 💡🔥👥\n",
      "Human: The Nature of Order, Book 1: The Phenomenon of Life: An Essay on the Art of Building and The Nature of the Universe\n",
      "AI: What a fascinating book! 😊 Here are some emojis that match:\n",
      "\n",
      "Book: The Nature of Order, Book 1: The Phenomenon of Life: An Essay on the Art of Building and The Nature of the Universe\n",
      "Emojis: 🏗️🌿💡\n"
     ]
    }
   ],
   "source": [
    "# Enter a book title, and receive emojis.\n",
    "print(book_emoji_chain.invoke({\"input\": \"Sapiens\"}))\n",
    "\n",
    "# Enter a different book title.\n",
    "result = print(book_emoji_chain.invoke({\"input\": \"The Nature of Order, Book 1: The Phenomenon of Life: An Essay on the Art of Building and The Nature of the Universe\"}))\n",
    "\n",
    "# Check memory (does it remember the first book?)\n",
    "print(book_emoji_chain.memory.buffer)\n"
   ]
  },
  {
   "cell_type": "code",
   "execution_count": 51,
   "id": "89d6d062-4c7e-4347-a2e3-71455475a2d0",
   "metadata": {},
   "outputs": [
    {
     "name": "stdout",
     "output_type": "stream",
     "text": [
      "\n",
      "\n",
      "\u001b[1m> Entering new LLMChain chain...\u001b[0m\n",
      "Prompt after formatting:\n",
      "\u001b[32;1m\u001b[1;3mBook: Harry Potter\n",
      "Emojis: 🧙‍♂️⚡📚\n",
      "\n",
      "Book: The Little Prince\n",
      "Emojis: 👦🪐🌹\n",
      "\n",
      "Book: 1984\n",
      "Emojis: 👁️📖🕵️\n",
      "\n",
      "Book: The Nature of Order, Book 2\n",
      "Emojis:\u001b[0m\n",
      "\n",
      "\u001b[1m> Finished chain.\u001b[0m\n",
      "The challenge!\n",
      "\n",
      "Book: The Nature of Order, Book 2 (Journal 1: Intuition)\n",
      "Emojis: 🏰💡🔍\n"
     ]
    }
   ],
   "source": [
    "result = book_emoji_chain.invoke({\"input\": \"The Nature of Order, Book 2\"})\n",
    "print(result[\"text\"])  # 이렇게 명시적으로 결과만 남기기"
   ]
  },
  {
   "cell_type": "code",
   "execution_count": 52,
   "id": "0ce9fd08-90e1-49ba-9136-4f1a02404c77",
   "metadata": {},
   "outputs": [],
   "source": [
    "with open(\"output.txt\", \"w\") as f:\n",
    "    f.write(result[\"text\"])"
   ]
  },
  {
   "cell_type": "code",
   "execution_count": null,
   "id": "03ca58cd-59d7-4736-9f6b-b39ab87d5bdd",
   "metadata": {},
   "outputs": [],
   "source": []
  }
 ],
 "metadata": {
  "kernelspec": {
   "display_name": "Python 3 (ipykernel)",
   "language": "python",
   "name": "python3"
  },
  "language_info": {
   "codemirror_mode": {
    "name": "ipython",
    "version": 3
   },
   "file_extension": ".py",
   "mimetype": "text/x-python",
   "name": "python",
   "nbconvert_exporter": "python",
   "pygments_lexer": "ipython3",
   "version": "3.13.3"
  }
 },
 "nbformat": 4,
 "nbformat_minor": 5
}
